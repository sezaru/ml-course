{
 "cells": [
  {
   "cell_type": "markdown",
   "metadata": {},
   "source": [
    "# Initialization"
   ]
  },
  {
   "cell_type": "code",
   "execution_count": 1,
   "metadata": {},
   "outputs": [
    {
     "name": "stdout",
     "output_type": "stream",
     "text": [
      "Loading data ...\n",
      "First 10 examples from the dataset: \n",
      " x = [2104 3], y = 399900 \n",
      " x = [1600 3], y = 329900 \n",
      " x = [2400 3], y = 369000 \n",
      " x = [1416 2], y = 232000 \n",
      " x = [3000 4], y = 539900 \n",
      " x = [1985 4], y = 299900 \n",
      " x = [1534 3], y = 314900 \n",
      " x = [1427 3], y = 198999 \n",
      " x = [1380 3], y = 212000 \n",
      " x = [1494 3], y = 242500 \n"
     ]
    }
   ],
   "source": [
    "%% Machine Learning Online Class\n",
    "%  Exercise 1: Linear regression with multiple variables\n",
    "%\n",
    "%  Instructions\n",
    "%  ------------\n",
    "% \n",
    "%  This file contains code that helps you get started on the\n",
    "%  linear regression exercise. \n",
    "%\n",
    "%  You will need to complete the following functions in this \n",
    "%  exericse:\n",
    "%\n",
    "%     warmUpExercise.m\n",
    "%     plotData.m\n",
    "%     gradientDescent.m\n",
    "%     computeCost.m\n",
    "%     gradientDescentMulti.m\n",
    "%     computeCostMulti.m\n",
    "%     featureNormalize.m\n",
    "%     normalEqn.m\n",
    "%\n",
    "%  For this part of the exercise, you will need to change some\n",
    "%  parts of the code below for various experiments (e.g., changing\n",
    "%  learning rates).\n",
    "%\n",
    "\n",
    "%% Initialization\n",
    "\n",
    "%% Clear and Close Figures\n",
    "clear ; close all; clc\n",
    "\n",
    "fprintf('Loading data ...\\n');\n",
    "\n",
    "%% Load Data\n",
    "data = load('ex1data2.txt');\n",
    "X = data(:, 1:2);\n",
    "y = data(:, 3);\n",
    "m = length(y);\n",
    "\n",
    "% Print out some data points\n",
    "fprintf('First 10 examples from the dataset: \\n');\n",
    "fprintf(' x = [%.0f %.0f], y = %.0f \\n', [X(1:10,:) y(1:10,:)]');"
   ]
  },
  {
   "cell_type": "markdown",
   "metadata": {},
   "source": [
    "# Feature Normalization"
   ]
  },
  {
   "cell_type": "code",
   "execution_count": 2,
   "metadata": {},
   "outputs": [
    {
     "name": "stdout",
     "output_type": "stream",
     "text": [
      "Normalizing Features ...\n"
     ]
    }
   ],
   "source": [
    "% Scale features and set them to zero mean\n",
    "fprintf('Normalizing Features ...\\n');\n",
    "\n",
    "[X mu sigma] = featureNormalize(X);\n",
    "\n",
    "% Add intercept term to X\n",
    "X = [ones(m, 1) X];"
   ]
  },
  {
   "cell_type": "markdown",
   "metadata": {},
   "source": [
    "# Gradient Descent"
   ]
  },
  {
   "cell_type": "code",
   "execution_count": 3,
   "metadata": {
    "scrolled": false
   },
   "outputs": [
    {
     "name": "stdout",
     "output_type": "stream",
     "text": [
      "Running gradient descent ...\n",
      "theta =\n",
      "\n",
      "   340412.65957\n",
      "   110631.04896\n",
      "    -6649.47295\n",
      "\n",
      "ans =  65591548106.45744\n",
      "ans =  2043280050.60283\n"
     ]
    }
   ],
   "source": [
    "fprintf('Running gradient descent ...\\n');\n",
    "\n",
    "% Choose some alpha value\n",
    "alpha = 0.1;\n",
    "num_iters = 400;\n",
    "\n",
    "% Init Theta and Run Gradient Descent \n",
    "theta = zeros(3, 1);\n",
    "[theta, J_history] = gradientDescentMulti(X, y, theta, alpha, num_iters);\n",
    "\n",
    "theta\n",
    "J_history(1)\n",
    "J_history(length(J_history))"
   ]
  },
  {
   "cell_type": "code",
   "execution_count": 4,
   "metadata": {},
   "outputs": [
    {
     "name": "stdout",
     "output_type": "stream",
     "text": [
      "Theta computed from gradient descent: \n",
      " 340412.659574 \n",
      " 110631.048958 \n",
      " -6649.472950 \n",
      "\n"
     ]
    },
    {
     "data": {
      "image/png": "[encoded data removed]",
      "text/plain": [
       "<IPython.core.display.Image object>"
      ]
     },
     "metadata": {},
     "output_type": "display_data"
    }
   ],
   "source": [
    "% Plot the convergence graph\n",
    "figure;\n",
    "plot(1:numel(J_history), J_history, '-b', 'LineWidth', 2);\n",
    "xlabel('Number of iterations');\n",
    "ylabel('Cost J');\n",
    "\n",
    "% Display gradient descent's result\n",
    "fprintf('Theta computed from gradient descent: \\n');\n",
    "fprintf(' %f \\n', theta);\n",
    "fprintf('\\n');"
   ]
  },
  {
   "cell_type": "markdown",
   "metadata": {},
   "source": [
    "## Estimate the price of a 1650 sq-ft, 3 br house"
   ]
  },
  {
   "cell_type": "code",
   "execution_count": 5,
   "metadata": {},
   "outputs": [
    {
     "name": "stdout",
     "output_type": "stream",
     "text": [
      "test_X =\n",
      "\n",
      "   1650      3\n",
      "\n",
      "norm_test_X =\n",
      "\n",
      "   1.00000  -0.44127  -0.22368\n",
      "\n",
      "price =  293081.46462\n",
      "Predicted price of a 1650 sq-ft, 3 br house (using gradient descent):\n",
      " $293081.464622\n"
     ]
    }
   ],
   "source": [
    "test_X = [1650 3]\n",
    "\n",
    "norm_test_X = (test_X - mu) ./ sigma;\n",
    "\n",
    "norm_test_X = [ones(1, 1) norm_test_X]\n",
    "\n",
    "price = norm_test_X * theta\n",
    "\n",
    "fprintf(['Predicted price of a 1650 sq-ft, 3 br house ' ...\n",
    "         '(using gradient descent):\\n $%f\\n'], price);"
   ]
  },
  {
   "cell_type": "markdown",
   "metadata": {},
   "source": [
    "# Normal Equations"
   ]
  },
  {
   "cell_type": "code",
   "execution_count": 6,
   "metadata": {},
   "outputs": [
    {
     "name": "stdout",
     "output_type": "stream",
     "text": [
      "Solving with normal equations...\n",
      "theta =\n",
      "\n",
      "   89597.90954\n",
      "     139.21067\n",
      "   -8738.01911\n",
      "\n",
      "Theta computed from the normal equations: \n",
      " 89597.909542 \n",
      " 139.210674 \n",
      " -8738.019112 \n",
      "\n"
     ]
    }
   ],
   "source": [
    "fprintf('Solving with normal equations...\\n');\n",
    "\n",
    "%% Load Data\n",
    "data = csvread('ex1data2.txt');\n",
    "X = data(:, 1:2);\n",
    "y = data(:, 3);\n",
    "m = length(y);\n",
    "\n",
    "% Add intercept term to X\n",
    "X = [ones(m, 1) X];\n",
    "\n",
    "% Calculate the parameters from the normal equation\n",
    "theta = normalEqn(X, y);\n",
    "\n",
    "% Display normal equation's result\n",
    "fprintf('Theta computed from the normal equations: \\n');\n",
    "fprintf(' %f \\n', theta);\n",
    "fprintf('\\n');"
   ]
  },
  {
   "cell_type": "markdown",
   "metadata": {},
   "source": [
    "## Estimate the price of a 1650 sq-ft, 3 br house"
   ]
  },
  {
   "cell_type": "code",
   "execution_count": 7,
   "metadata": {},
   "outputs": [
    {
     "name": "stdout",
     "output_type": "stream",
     "text": [
      "test_X =\n",
      "\n",
      "   1650      3\n",
      "\n",
      "test_X =\n",
      "\n",
      "      1   1650      3\n",
      "\n",
      "price =  293081.46433\n",
      "Predicted price of a 1650 sq-ft, 3 br house (using normal equations):\n",
      " $293081.464335\n"
     ]
    }
   ],
   "source": [
    "test_X = [1650 3]\n",
    "\n",
    "test_X = [ones(1, 1) test_X]\n",
    "\n",
    "price = test_X * theta\n",
    "\n",
    "fprintf(['Predicted price of a 1650 sq-ft, 3 br house ' ...\n",
    "         '(using normal equations):\\n $%f\\n'], price);"
   ]
  }
 ],
 "metadata": {
  "kernelspec": {
   "display_name": "Octave",
   "language": "octave",
   "name": "octave"
  },
  "language_info": {
   "file_extension": ".m",
   "help_links": [
    {
     "text": "GNU Octave",
     "url": "https://www.gnu.org/software/octave/support.html"
    },
    {
     "text": "Octave Kernel",
     "url": "https://github.com/Calysto/octave_kernel"
    },
    {
     "text": "MetaKernel Magics",
     "url": "https://metakernel.readthedocs.io/en/latest/source/README.html"
    }
   ],
   "mimetype": "text/x-octave",
   "name": "octave",
   "version": "4.4.1"
  }
 },
 "nbformat": 4,
 "nbformat_minor": 2
}
