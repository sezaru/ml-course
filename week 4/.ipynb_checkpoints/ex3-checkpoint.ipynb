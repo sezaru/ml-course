{
 "cells": [
  {
   "cell_type": "markdown",
   "metadata": {},
   "source": [
    "## Initialization"
   ]
  },
  {
   "cell_type": "code",
   "execution_count": 1,
   "metadata": {},
   "outputs": [],
   "source": [
    "clear ; close all; clc\n",
    "\n",
    "%% Setup the parameters you will use for this part of the exercise\n",
    "input_layer_size  = 400;  % 20x20 Input Images of Digits\n",
    "num_labels = 10;          % 10 labels, from 1 to 10\n",
    "                          % (note that we have mapped \"0\" to label 10)"
   ]
  },
  {
   "cell_type": "markdown",
   "metadata": {},
   "source": [
    "## Loading and Visualizing Data"
   ]
  },
  {
   "cell_type": "code",
   "execution_count": 2,
   "metadata": {},
   "outputs": [
    {
     "name": "stdout",
     "output_type": "stream",
     "text": [
      "Loading and Visualizing Data ...\n"
     ]
    },
    {
     "data": {
      "image/png": "[encoded data removed]",
      "text/plain": [
       "<IPython.core.display.Image object>"
      ]
     },
     "metadata": {},
     "output_type": "display_data"
    }
   ],
   "source": [
    "%  We start the exercise by first loading and visualizing the dataset.\n",
    "%  You will be working with a dataset that contains handwritten digits.\n",
    "%\n",
    "\n",
    "% Load Training Data\n",
    "fprintf('Loading and Visualizing Data ...\\n')\n",
    "\n",
    "load('ex3data1.mat'); % training data stored in arrays X, y\n",
    "m = size(X, 1);\n",
    "\n",
    "% Randomly select 100 data points to display\n",
    "rand_indices = randperm(m);\n",
    "sel = X(rand_indices(1:100), :);\n",
    "\n",
    "displayData(sel);"
   ]
  },
  {
   "cell_type": "markdown",
   "metadata": {},
   "source": [
    "## Vectorize Logistic Regression"
   ]
  },
  {
   "cell_type": "code",
   "execution_count": 3,
   "metadata": {},
   "outputs": [
    {
     "name": "stdout",
     "output_type": "stream",
     "text": [
      "\n",
      "Testing lrCostFunction() with regularization\n",
      "\n",
      "Cost: 2.534819\n",
      "Expected cost: 2.534819\n",
      "Gradients:\n",
      " 0.146561 \n",
      " -0.548558 \n",
      " 0.724722 \n",
      " 1.398003 \n",
      "Expected gradients:\n",
      " 0.146561\n",
      " -0.548558\n",
      " 0.724722\n",
      " 1.398003\n"
     ]
    }
   ],
   "source": [
    "%  In this part of the exercise, you will reuse your logistic regression\n",
    "%  code from the last exercise. You task here is to make sure that your\n",
    "%  regularized logistic regression implementation is vectorized. After\n",
    "%  that, you will implement one-vs-all classification for the handwritten\n",
    "%  digit dataset.\n",
    "%\n",
    "\n",
    "% Test case for lrCostFunction\n",
    "fprintf('\\nTesting lrCostFunction() with regularization');\n",
    "\n",
    "theta_t = [-2; -1; 1; 2];\n",
    "X_t = [ones(5,1) reshape(1:15,5,3)/10];\n",
    "y_t = ([1;0;1;0;1] >= 0.5);\n",
    "lambda_t = 3;\n",
    "[J grad] = lrCostFunction(theta_t, X_t, y_t, lambda_t);\n",
    "\n",
    "fprintf('\\nCost: %f\\n', J);\n",
    "fprintf('Expected cost: 2.534819\\n');\n",
    "fprintf('Gradients:\\n');\n",
    "fprintf(' %f \\n', grad);\n",
    "fprintf('Expected gradients:\\n');\n",
    "fprintf(' 0.146561\\n -0.548558\\n 0.724722\\n 1.398003\\n');"
   ]
  },
  {
   "cell_type": "markdown",
   "metadata": {},
   "source": [
    "## One-vs-All Training"
   ]
  },
  {
   "cell_type": "code",
   "execution_count": 4,
   "metadata": {},
   "outputs": [
    {
     "name": "stdout",
     "output_type": "stream",
     "text": [
      "\n",
      "Training One-vs-All Logistic Regression...\n",
      "Iteration    50 | Cost: 1.370516e-02\n",
      "Iteration    50 | Cost: 5.725246e-02\n",
      "Iteration    50 | Cost: 6.290413e-02\n",
      "Iteration    50 | Cost: 3.877049e-02\n",
      "Iteration    50 | Cost: 6.185590e-02\n",
      "Iteration    50 | Cost: 2.172725e-02\n",
      "Iteration    50 | Cost: 3.524966e-02\n",
      "Iteration    50 | Cost: 8.595681e-02\n",
      "Iteration    50 | Cost: 7.978874e-02\n",
      "Iteration    50 | Cost: 1.000551e-02\n"
     ]
    }
   ],
   "source": [
    "fprintf('\\nTraining One-vs-All Logistic Regression...\\n')\n",
    "\n",
    "lambda = 0.1;\n",
    "[all_theta] = oneVsAll(X, y, num_labels, lambda);"
   ]
  },
  {
   "cell_type": "markdown",
   "metadata": {},
   "source": [
    "## Predict for One-Vs-All"
   ]
  },
  {
   "cell_type": "code",
   "execution_count": 5,
   "metadata": {},
   "outputs": [
    {
     "name": "stdout",
     "output_type": "stream",
     "text": [
      "\n",
      "Training Set Accuracy: 94.940000\n"
     ]
    }
   ],
   "source": [
    "pred = predictOneVsAll(all_theta, X);\n",
    "\n",
    "fprintf('\\nTraining Set Accuracy: %f\\n', mean(double(pred == y)) * 100);"
   ]
  }
 ],
 "metadata": {
  "kernelspec": {
   "display_name": "Octave",
   "language": "octave",
   "name": "octave"
  },
  "language_info": {
   "file_extension": ".m",
   "help_links": [
    {
     "text": "GNU Octave",
     "url": "https://www.gnu.org/software/octave/support.html"
    },
    {
     "text": "Octave Kernel",
     "url": "https://github.com/Calysto/octave_kernel"
    },
    {
     "text": "MetaKernel Magics",
     "url": "https://metakernel.readthedocs.io/en/latest/source/README.html"
    }
   ],
   "mimetype": "text/x-octave",
   "name": "octave",
   "version": "4.4.1"
  }
 },
 "nbformat": 4,
 "nbformat_minor": 2
}
