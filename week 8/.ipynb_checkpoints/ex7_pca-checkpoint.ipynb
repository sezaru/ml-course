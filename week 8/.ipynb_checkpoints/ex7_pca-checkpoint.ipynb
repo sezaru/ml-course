{
 "cells": [
  {
   "cell_type": "markdown",
   "metadata": {},
   "source": [
    "#### Load Example Dataset"
   ]
  },
  {
   "cell_type": "code",
   "execution_count": 9,
   "metadata": {},
   "outputs": [
    {
     "name": "stdout",
     "output_type": "stream",
     "text": [
      "Visualizing example dataset for PCA.\r\n",
      "\r\n"
     ]
    },
    {
     "data": {
      "image/png": "[encoded data removed]",
      "text/plain": [
       "<IPython.core.display.Image object>"
      ]
     },
     "metadata": {},
     "output_type": "display_data"
    }
   ],
   "source": [
    "%  We start this exercise by using a small dataset that is easily to\n",
    "%  visualize\n",
    "%\n",
    "fprintf('Visualizing example dataset for PCA.\\n\\n');\n",
    "\n",
    "%  The following command loads the dataset. You should now have the \n",
    "%  variable X in your environment\n",
    "load ('ex7data1.mat');\n",
    "\n",
    "%  Visualize the example dataset\n",
    "plot(X(:, 1), X(:, 2), 'bo');\n",
    "axis([0.5 6.5 2 8]); axis square;"
   ]
  },
  {
   "cell_type": "markdown",
   "metadata": {},
   "source": [
    "#### Principal Component Analysis"
   ]
  },
  {
   "cell_type": "code",
   "execution_count": 11,
   "metadata": {},
   "outputs": [
    {
     "name": "stdout",
     "output_type": "stream",
     "text": [
      "\n",
      "Running PCA on example dataset.\n",
      "\n",
      "Top eigenvector: \n",
      " U(:,1) = -0.707107 -0.707107 \n",
      "\n",
      "(you should expect to see -0.707107 -0.707107)\n"
     ]
    },
    {
     "data": {
      "image/png": "[encoded data removed]",
      "text/plain": [
       "<IPython.core.display.Image object>"
      ]
     },
     "metadata": {},
     "output_type": "display_data"
    }
   ],
   "source": [
    "%  You should now implement PCA, a dimension reduction technique. You\n",
    "%  should complete the code in pca.m\n",
    "%\n",
    "fprintf('\\nRunning PCA on example dataset.\\n\\n');\n",
    "\n",
    "%  Before running PCA, it is important to first normalize X\n",
    "[X_norm, mu, sigma] = featureNormalize(X);\n",
    "\n",
    "%  Run PCA\n",
    "[U, S] = pca(X_norm);\n",
    "\n",
    "%  Compute mu, the mean of the each feature\n",
    "\n",
    "%  Draw the eigenvectors centered at mean of data. These lines show the\n",
    "%  directions of maximum variations in the dataset.\n",
    "hold on;\n",
    "drawLine(mu, mu + 1.5 * S(1,1) * U(:,1)', '-k', 'LineWidth', 2);\n",
    "drawLine(mu, mu + 1.5 * S(2,2) * U(:,2)', '-k', 'LineWidth', 2);\n",
    "hold off;\n",
    "\n",
    "fprintf('Top eigenvector: \\n');\n",
    "fprintf(' U(:,1) = %f %f \\n', U(1,1), U(2,1));\n",
    "fprintf('\\n(you should expect to see -0.707107 -0.707107)\\n');"
   ]
  },
  {
   "cell_type": "markdown",
   "metadata": {},
   "source": [
    "#### Dimension Reduction"
   ]
  },
  {
   "cell_type": "code",
   "execution_count": 22,
   "metadata": {},
   "outputs": [
    {
     "name": "stdout",
     "output_type": "stream",
     "text": [
      "\n",
      "Dimension reduction on example dataset.\n",
      "\n",
      "Projection of the first example: 1.481274\n",
      "\n",
      "(this value should be about 1.481274)\n",
      "\n",
      "Approximation of the first example: -1.047419 -1.047419\n",
      "\n",
      "(this value should be about  -1.047419 -1.047419)\n",
      "\n"
     ]
    },
    {
     "data": {
      "image/png": "[encoded data removed]",
      "text/plain": [
       "<IPython.core.display.Image object>"
      ]
     },
     "metadata": {},
     "output_type": "display_data"
    }
   ],
   "source": [
    "%  You should now implement the projection step to map the data onto the \n",
    "%  first k eigenvectors. The code will then plot the data in this reduced \n",
    "%  dimensional space.  This will show you what the data looks like when \n",
    "%  using only the corresponding eigenvectors to reconstruct it.\n",
    "%\n",
    "%  You should complete the code in projectData.m\n",
    "%\n",
    "fprintf('\\nDimension reduction on example dataset.\\n\\n');\n",
    "\n",
    "%  Plot the normalized dataset (returned from pca)\n",
    "plot(X_norm(:, 1), X_norm(:, 2), 'bo');\n",
    "axis([-4 3 -4 3]); axis square\n",
    "\n",
    "%  Project the data onto K = 1 dimension\n",
    "K = 1;\n",
    "Z = projectData(X_norm, U, K);\n",
    "fprintf('Projection of the first example: %f\\n', Z(1));\n",
    "fprintf('\\n(this value should be about 1.481274)\\n\\n');\n",
    "\n",
    "X_rec  = recoverData(Z, U, K);\n",
    "fprintf('Approximation of the first example: %f %f\\n', X_rec(1, 1), X_rec(1, 2));\n",
    "fprintf('\\n(this value should be about  -1.047419 -1.047419)\\n\\n');\n",
    "\n",
    "%  Draw lines connecting the projected points to the original points\n",
    "hold on;\n",
    "plot(X_rec(:, 1), X_rec(:, 2), 'ro');\n",
    "for i = 1:size(X_norm, 1)\n",
    "    drawLine(X_norm(i,:), X_rec(i,:), '--k', 'LineWidth', 1);\n",
    "end\n",
    "hold off"
   ]
  },
  {
   "cell_type": "markdown",
   "metadata": {},
   "source": [
    "#### Loading and Visualizing Face Data"
   ]
  },
  {
   "cell_type": "code",
   "execution_count": null,
   "metadata": {},
   "outputs": [],
   "source": [
    "%  We start the exercise by first loading and visualizing the dataset.\n",
    "%  The following code will load the dataset into your environment\n",
    "%\n",
    "fprintf('\\nLoading face dataset.\\n\\n');\n",
    "\n",
    "%  Load Face dataset\n",
    "load ('ex7faces.mat')\n",
    "\n",
    "%  Display the first 100 faces in the dataset\n",
    "displayData(X(1:100, :));"
   ]
  },
  {
   "cell_type": "markdown",
   "metadata": {},
   "source": [
    "#### PCA on Face Data: Eigenfaces"
   ]
  },
  {
   "cell_type": "code",
   "execution_count": null,
   "metadata": {},
   "outputs": [],
   "source": [
    "%  Run PCA and visualize the eigenvectors which are in this case eigenfaces\n",
    "%  We display the first 36 eigenfaces.\n",
    "%\n",
    "fprintf(['\\nRunning PCA on face dataset.\\n' ...\n",
    "         '(this might take a minute or two ...)\\n\\n']);\n",
    "\n",
    "%  Before running PCA, it is important to first normalize X by subtracting \n",
    "%  the mean value from each feature\n",
    "[X_norm, mu, sigma] = featureNormalize(X);\n",
    "\n",
    "%  Run PCA\n",
    "[U, S] = pca(X_norm);\n",
    "\n",
    "%  Visualize the top 36 eigenvectors found\n",
    "displayData(U(:, 1:36)');"
   ]
  },
  {
   "cell_type": "markdown",
   "metadata": {},
   "source": [
    "#### Dimension Reduction for Faces"
   ]
  },
  {
   "cell_type": "code",
   "execution_count": 2,
   "metadata": {},
   "outputs": [
    {
     "name": "stdout",
     "output_type": "stream",
     "text": [
      "\n",
      "Dimension reduction for face dataset.\n",
      "\n",
      "error: 'X_norm' undefined near line 1 column 17\n",
      "The projected data Z has a size of: error: 'Z' undefined near line 1 column 21\n"
     ]
    }
   ],
   "source": [
    "%  Project images to the eigen space using the top k eigenvectors \n",
    "%  If you are applying a machine learning algorithm \n",
    "fprintf('\\nDimension reduction for face dataset.\\n\\n');\n",
    "\n",
    "K = 100;\n",
    "Z = projectData(X_norm, U, K);\n",
    "\n",
    "fprintf('The projected data Z has a size of: ')\n",
    "fprintf('%d ', size(Z));"
   ]
  },
  {
   "cell_type": "markdown",
   "metadata": {},
   "source": [
    "#### Visualization of Faces after PCA Dimension Reduction"
   ]
  },
  {
   "cell_type": "code",
   "execution_count": null,
   "metadata": {},
   "outputs": [],
   "source": [
    "%  Project images to the eigen space using the top K eigen vectors and \n",
    "%  visualize only using those K dimensions\n",
    "%  Compare to the original input, which is also displayed\n",
    "\n",
    "fprintf('\\nVisualizing the projected (reduced dimension) faces.\\n\\n');\n",
    "\n",
    "K = 100;\n",
    "X_rec  = recoverData(Z, U, K);\n",
    "\n",
    "% Display normalized data\n",
    "subplot(1, 2, 1);\n",
    "displayData(X_norm(1:100,:));\n",
    "title('Original faces');\n",
    "axis square;\n",
    "\n",
    "% Display reconstructed data from only k eigenfaces\n",
    "subplot(1, 2, 2);\n",
    "displayData(X_rec(1:100,:));\n",
    "title('Recovered faces');\n",
    "axis square;"
   ]
  },
  {
   "cell_type": "markdown",
   "metadata": {},
   "source": [
    "#### Optional (ungraded) Exercise: PCA for Visualization"
   ]
  },
  {
   "cell_type": "code",
   "execution_count": null,
   "metadata": {},
   "outputs": [],
   "source": [
    "%  One useful application of PCA is to use it to visualize high-dimensional\n",
    "%  data. In the last K-Means exercise you ran K-Means on 3-dimensional \n",
    "%  pixel colors of an image. We first visualize this output in 3D, and then\n",
    "%  apply PCA to obtain a visualization in 2D.\n",
    "\n",
    "close all; close all; clc\n",
    "\n",
    "% Reload the image from the previous exercise and run K-Means on it\n",
    "% For this to work, you need to complete the K-Means assignment first\n",
    "A = double(imread('bird_small.png'));\n",
    "\n",
    "% If imread does not work for you, you can try instead\n",
    "%   load ('bird_small.mat');\n",
    "\n",
    "A = A / 255;\n",
    "img_size = size(A);\n",
    "X = reshape(A, img_size(1) * img_size(2), 3);\n",
    "K = 16; \n",
    "max_iters = 10;\n",
    "initial_centroids = kMeansInitCentroids(X, K);\n",
    "[centroids, idx] = runkMeans(X, initial_centroids, max_iters);\n",
    "\n",
    "%  Sample 1000 random indexes (since working with all the data is\n",
    "%  too expensive. If you have a fast computer, you may increase this.\n",
    "sel = floor(rand(1000, 1) * size(X, 1)) + 1;\n",
    "\n",
    "%  Setup Color Palette\n",
    "palette = hsv(K);\n",
    "colors = palette(idx(sel), :);\n",
    "\n",
    "%  Visualize the data and centroid memberships in 3D\n",
    "figure;\n",
    "scatter3(X(sel, 1), X(sel, 2), X(sel, 3), 10, colors);\n",
    "title('Pixel dataset plotted in 3D. Color shows centroid memberships');\n",
    "fprintf('Program paused. Press enter to continue.\\n');\n",
    "pause;"
   ]
  },
  {
   "cell_type": "markdown",
   "metadata": {},
   "source": [
    "#### Optional (ungraded) Exercise: PCA for Visualization"
   ]
  },
  {
   "cell_type": "code",
   "execution_count": null,
   "metadata": {},
   "outputs": [],
   "source": [
    "% Use PCA to project this cloud to 2D for visualization\n",
    "\n",
    "% Subtract the mean to use PCA\n",
    "[X_norm, mu, sigma] = featureNormalize(X);\n",
    "\n",
    "% PCA and project the data to 2D\n",
    "[U, S] = pca(X_norm);\n",
    "Z = projectData(X_norm, U, 2);\n",
    "\n",
    "% Plot in 2D\n",
    "figure;\n",
    "plotDataPoints(Z(sel, :), idx(sel), K);\n",
    "title('Pixel dataset plotted in 2D, using PCA for dimensionality reduction');"
   ]
  }
 ],
 "metadata": {
  "kernelspec": {
   "display_name": "Octave",
   "language": "octave",
   "name": "octave"
  },
  "language_info": {
   "file_extension": ".m",
   "help_links": [
    {
     "text": "GNU Octave",
     "url": "https://www.gnu.org/software/octave/support.html"
    },
    {
     "text": "Octave Kernel",
     "url": "https://github.com/Calysto/octave_kernel"
    },
    {
     "text": "MetaKernel Magics",
     "url": "https://metakernel.readthedocs.io/en/latest/source/README.html"
    }
   ],
   "mimetype": "text/x-octave",
   "name": "octave",
   "version": "4.4.1"
  }
 },
 "nbformat": 4,
 "nbformat_minor": 2
}
